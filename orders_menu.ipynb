{
 "cells": [
  {
   "cell_type": "code",
   "execution_count": 1,
   "id": "9e45f869",
   "metadata": {},
   "outputs": [],
   "source": [
    "import pandas as pd \n",
    "import numpy as np"
   ]
  },
  {
   "cell_type": "code",
   "execution_count": 2,
   "id": "95854d4b",
   "metadata": {},
   "outputs": [
    {
     "name": "stderr",
     "output_type": "stream",
     "text": [
      "C:\\Users\\hussien\\AppData\\Local\\Temp\\ipykernel_18904\\2758371042.py:1: UserWarning: Could not infer format, so each element will be parsed individually, falling back to `dateutil`. To ensure parsing is consistent and as-expected, please specify a format.\n",
      "  orders_df= pd.read_csv('order_details.csv',parse_dates=['order_time'])\n"
     ]
    },
    {
     "name": "stdout",
     "output_type": "stream",
     "text": [
      "<class 'pandas.core.frame.DataFrame'>\n",
      "RangeIndex: 12234 entries, 0 to 12233\n",
      "Data columns (total 5 columns):\n",
      " #   Column            Non-Null Count  Dtype         \n",
      "---  ------            --------------  -----         \n",
      " 0   order_details_id  12234 non-null  int64         \n",
      " 1   order_id          12234 non-null  int64         \n",
      " 2   order_date        12234 non-null  object        \n",
      " 3   order_time        12234 non-null  datetime64[ns]\n",
      " 4   item_id           12097 non-null  float64       \n",
      "dtypes: datetime64[ns](1), float64(1), int64(2), object(1)\n",
      "memory usage: 478.0+ KB\n"
     ]
    }
   ],
   "source": [
    "orders_df= pd.read_csv('order_details.csv',parse_dates=['order_time'])\n",
    "orders_df.head()\n",
    "##profile the data\n",
    "orders_df.info()"
   ]
  },
  {
   "cell_type": "code",
   "execution_count": 3,
   "id": "42c2544e",
   "metadata": {},
   "outputs": [],
   "source": [
    "orders_df.dropna(inplace=True)"
   ]
  },
  {
   "cell_type": "markdown",
   "id": "0c8a0ed6",
   "metadata": {},
   "source": [
    "##joining menu"
   ]
  },
  {
   "cell_type": "code",
   "execution_count": 4,
   "id": "704586ea",
   "metadata": {},
   "outputs": [],
   "source": [
    "menu_df=pd.read_csv('menu_items.csv')"
   ]
  },
  {
   "cell_type": "code",
   "execution_count": 5,
   "id": "1fd86724",
   "metadata": {},
   "outputs": [
    {
     "name": "stdout",
     "output_type": "stream",
     "text": [
      "<class 'pandas.core.frame.DataFrame'>\n",
      "RangeIndex: 32 entries, 0 to 31\n",
      "Data columns (total 4 columns):\n",
      " #   Column        Non-Null Count  Dtype  \n",
      "---  ------        --------------  -----  \n",
      " 0   menu_item_id  32 non-null     int64  \n",
      " 1   item_name     32 non-null     object \n",
      " 2   category      32 non-null     object \n",
      " 3   price         32 non-null     float64\n",
      "dtypes: float64(1), int64(1), object(2)\n",
      "memory usage: 1.1+ KB\n"
     ]
    }
   ],
   "source": [
    "menu_df.info()"
   ]
  },
  {
   "cell_type": "code",
   "execution_count": 6,
   "id": "73f27f11",
   "metadata": {},
   "outputs": [
    {
     "name": "stdout",
     "output_type": "stream",
     "text": [
      "<class 'pandas.core.frame.DataFrame'>\n",
      "RangeIndex: 12097 entries, 0 to 12096\n",
      "Data columns (total 8 columns):\n",
      " #   Column            Non-Null Count  Dtype         \n",
      "---  ------            --------------  -----         \n",
      " 0   order_details_id  12097 non-null  int64         \n",
      " 1   order_id          12097 non-null  int64         \n",
      " 2   order_date        12097 non-null  object        \n",
      " 3   order_time        12097 non-null  datetime64[ns]\n",
      " 4   item_id           12097 non-null  float64       \n",
      " 5   item_name         12097 non-null  object        \n",
      " 6   category          12097 non-null  object        \n",
      " 7   price             12097 non-null  float64       \n",
      "dtypes: datetime64[ns](1), float64(2), int64(2), object(3)\n",
      "memory usage: 756.2+ KB\n"
     ]
    }
   ],
   "source": [
    "order_item_df=orders_df.merge(menu_df,how='left',left_on='item_id',right_on='menu_item_id').drop('menu_item_id',axis=1)\n",
    "order_item_df.info()"
   ]
  },
  {
   "cell_type": "code",
   "execution_count": 7,
   "id": "d5adfae0",
   "metadata": {},
   "outputs": [],
   "source": [
    "order_item_df['item_id']=order_item_df['item_id'].astype(int)"
   ]
  },
  {
   "cell_type": "markdown",
   "id": "0b6b60d6",
   "metadata": {},
   "source": [
    "##adding tax and total_revenues columns"
   ]
  },
  {
   "cell_type": "code",
   "execution_count": 8,
   "id": "4ee3e57d",
   "metadata": {},
   "outputs": [],
   "source": [
    "order_item_df['sales_tax']=(order_item_df['price']*0.8).round(2)"
   ]
  },
  {
   "cell_type": "code",
   "execution_count": 9,
   "id": "e19ab4fc",
   "metadata": {},
   "outputs": [],
   "source": [
    "order_item_df['revenue']=order_item_df['sales_tax']+order_item_df['price']"
   ]
  },
  {
   "cell_type": "code",
   "execution_count": 10,
   "id": "4cf9acb8",
   "metadata": {},
   "outputs": [
    {
     "data": {
      "application/vnd.microsoft.datawrangler.viewer.v0+json": {
       "columns": [
        {
         "name": "index",
         "rawType": "int64",
         "type": "integer"
        },
        {
         "name": "order_details_id",
         "rawType": "int64",
         "type": "integer"
        },
        {
         "name": "order_id",
         "rawType": "int64",
         "type": "integer"
        },
        {
         "name": "order_date",
         "rawType": "object",
         "type": "string"
        },
        {
         "name": "order_time",
         "rawType": "datetime64[ns]",
         "type": "datetime"
        },
        {
         "name": "item_id",
         "rawType": "int64",
         "type": "integer"
        },
        {
         "name": "item_name",
         "rawType": "object",
         "type": "string"
        },
        {
         "name": "category",
         "rawType": "object",
         "type": "string"
        },
        {
         "name": "price",
         "rawType": "float64",
         "type": "float"
        },
        {
         "name": "sales_tax",
         "rawType": "float64",
         "type": "float"
        },
        {
         "name": "revenue",
         "rawType": "float64",
         "type": "float"
        }
       ],
       "conversionMethod": "pd.DataFrame",
       "ref": "6973db9b-4998-4b31-ae59-50743d4b8cbf",
       "rows": [
        [
         "0",
         "1",
         "1",
         "1/1/23",
         "2025-05-15 11:38:36",
         "109",
         "Korean Beef Bowl",
         "Asian",
         "17.95",
         "14.36",
         "32.31"
        ],
        [
         "1",
         "2",
         "2",
         "1/1/23",
         "2025-05-15 11:57:40",
         "108",
         "Tofu Pad Thai",
         "Asian",
         "14.5",
         "11.6",
         "26.1"
        ],
        [
         "2",
         "3",
         "2",
         "1/1/23",
         "2025-05-15 11:57:40",
         "124",
         "Spaghetti",
         "Italian",
         "14.5",
         "11.6",
         "26.1"
        ],
        [
         "3",
         "4",
         "2",
         "1/1/23",
         "2025-05-15 11:57:40",
         "117",
         "Chicken Burrito",
         "Mexican",
         "12.95",
         "10.36",
         "23.31"
        ],
        [
         "4",
         "5",
         "2",
         "1/1/23",
         "2025-05-15 11:57:40",
         "129",
         "Mushroom Ravioli",
         "Italian",
         "15.5",
         "12.4",
         "27.9"
        ],
        [
         "5",
         "6",
         "2",
         "1/1/23",
         "2025-05-15 11:57:40",
         "106",
         "French Fries",
         "American",
         "7.0",
         "5.6",
         "12.6"
        ],
        [
         "6",
         "7",
         "3",
         "1/1/23",
         "2025-05-15 12:12:28",
         "117",
         "Chicken Burrito",
         "Mexican",
         "12.95",
         "10.36",
         "23.31"
        ],
        [
         "7",
         "8",
         "3",
         "1/1/23",
         "2025-05-15 12:12:28",
         "119",
         "Chicken Torta",
         "Mexican",
         "11.95",
         "9.56",
         "21.509999999999998"
        ],
        [
         "8",
         "9",
         "4",
         "1/1/23",
         "2025-05-15 12:16:31",
         "117",
         "Chicken Burrito",
         "Mexican",
         "12.95",
         "10.36",
         "23.31"
        ],
        [
         "9",
         "10",
         "5",
         "1/1/23",
         "2025-05-15 12:21:30",
         "117",
         "Chicken Burrito",
         "Mexican",
         "12.95",
         "10.36",
         "23.31"
        ],
        [
         "10",
         "11",
         "6",
         "1/1/23",
         "2025-05-15 12:29:36",
         "101",
         "Hamburger",
         "American",
         "12.95",
         "10.36",
         "23.31"
        ],
        [
         "11",
         "12",
         "6",
         "1/1/23",
         "2025-05-15 12:29:36",
         "114",
         "Potstickers",
         "Asian",
         "9.0",
         "7.2",
         "16.2"
        ],
        [
         "12",
         "13",
         "7",
         "1/1/23",
         "2025-05-15 12:50:37",
         "123",
         "Chips & Guacamole",
         "Mexican",
         "9.0",
         "7.2",
         "16.2"
        ],
        [
         "13",
         "14",
         "8",
         "1/1/23",
         "2025-05-15 12:51:37",
         "123",
         "Chips & Guacamole",
         "Mexican",
         "9.0",
         "7.2",
         "16.2"
        ],
        [
         "14",
         "15",
         "9",
         "1/1/23",
         "2025-05-15 12:52:01",
         "108",
         "Tofu Pad Thai",
         "Asian",
         "14.5",
         "11.6",
         "26.1"
        ],
        [
         "15",
         "16",
         "9",
         "1/1/23",
         "2025-05-15 12:52:01",
         "126",
         "Fettuccine Alfredo",
         "Italian",
         "14.5",
         "11.6",
         "26.1"
        ],
        [
         "16",
         "17",
         "9",
         "1/1/23",
         "2025-05-15 12:52:01",
         "110",
         "Pork Ramen",
         "Asian",
         "17.95",
         "14.36",
         "32.31"
        ],
        [
         "17",
         "18",
         "9",
         "1/1/23",
         "2025-05-15 12:52:01",
         "117",
         "Chicken Burrito",
         "Mexican",
         "12.95",
         "10.36",
         "23.31"
        ],
        [
         "18",
         "19",
         "9",
         "1/1/23",
         "2025-05-15 12:52:01",
         "117",
         "Chicken Burrito",
         "Mexican",
         "12.95",
         "10.36",
         "23.31"
        ],
        [
         "19",
         "20",
         "9",
         "1/1/23",
         "2025-05-15 12:52:01",
         "129",
         "Mushroom Ravioli",
         "Italian",
         "15.5",
         "12.4",
         "27.9"
        ],
        [
         "20",
         "21",
         "9",
         "1/1/23",
         "2025-05-15 12:52:01",
         "122",
         "Chips & Salsa",
         "Mexican",
         "7.0",
         "5.6",
         "12.6"
        ],
        [
         "21",
         "22",
         "9",
         "1/1/23",
         "2025-05-15 12:52:01",
         "130",
         "Shrimp Scampi",
         "Italian",
         "19.95",
         "15.96",
         "35.91"
        ],
        [
         "22",
         "23",
         "9",
         "1/1/23",
         "2025-05-15 12:52:01",
         "132",
         "Eggplant Parmesan",
         "Italian",
         "16.95",
         "13.56",
         "30.509999999999998"
        ],
        [
         "23",
         "24",
         "10",
         "1/1/23",
         "2025-05-15 13:00:15",
         "129",
         "Mushroom Ravioli",
         "Italian",
         "15.5",
         "12.4",
         "27.9"
        ],
        [
         "24",
         "25",
         "10",
         "1/1/23",
         "2025-05-15 13:00:15",
         "105",
         "Mac & Cheese",
         "American",
         "7.0",
         "5.6",
         "12.6"
        ],
        [
         "25",
         "26",
         "11",
         "1/1/23",
         "2025-05-15 13:02:59",
         "101",
         "Hamburger",
         "American",
         "12.95",
         "10.36",
         "23.31"
        ],
        [
         "26",
         "27",
         "11",
         "1/1/23",
         "2025-05-15 13:02:59",
         "102",
         "Cheeseburger",
         "American",
         "13.95",
         "11.16",
         "25.11"
        ],
        [
         "27",
         "28",
         "11",
         "1/1/23",
         "2025-05-15 13:02:59",
         "102",
         "Cheeseburger",
         "American",
         "13.95",
         "11.16",
         "25.11"
        ],
        [
         "28",
         "29",
         "11",
         "1/1/23",
         "2025-05-15 13:02:59",
         "113",
         "Edamame",
         "Asian",
         "5.0",
         "4.0",
         "9.0"
        ],
        [
         "29",
         "30",
         "12",
         "1/1/23",
         "2025-05-15 13:04:41",
         "102",
         "Cheeseburger",
         "American",
         "13.95",
         "11.16",
         "25.11"
        ],
        [
         "30",
         "31",
         "12",
         "1/1/23",
         "2025-05-15 13:04:41",
         "102",
         "Cheeseburger",
         "American",
         "13.95",
         "11.16",
         "25.11"
        ],
        [
         "31",
         "32",
         "12",
         "1/1/23",
         "2025-05-15 13:04:41",
         "104",
         "Veggie Burger",
         "American",
         "10.5",
         "8.4",
         "18.9"
        ],
        [
         "32",
         "33",
         "12",
         "1/1/23",
         "2025-05-15 13:04:41",
         "117",
         "Chicken Burrito",
         "Mexican",
         "12.95",
         "10.36",
         "23.31"
        ],
        [
         "33",
         "34",
         "13",
         "1/1/23",
         "2025-05-15 13:11:55",
         "129",
         "Mushroom Ravioli",
         "Italian",
         "15.5",
         "12.4",
         "27.9"
        ],
        [
         "34",
         "35",
         "14",
         "1/1/23",
         "2025-05-15 13:14:19",
         "114",
         "Potstickers",
         "Asian",
         "9.0",
         "7.2",
         "16.2"
        ],
        [
         "35",
         "36",
         "15",
         "1/1/23",
         "2025-05-15 13:33:00",
         "107",
         "Orange Chicken",
         "Asian",
         "16.5",
         "13.2",
         "29.7"
        ],
        [
         "36",
         "37",
         "15",
         "1/1/23",
         "2025-05-15 13:33:00",
         "124",
         "Spaghetti",
         "Italian",
         "14.5",
         "11.6",
         "26.1"
        ],
        [
         "37",
         "38",
         "15",
         "1/1/23",
         "2025-05-15 13:33:00",
         "121",
         "Cheese Quesadillas",
         "Mexican",
         "10.5",
         "8.4",
         "18.9"
        ],
        [
         "38",
         "39",
         "15",
         "1/1/23",
         "2025-05-15 13:33:00",
         "114",
         "Potstickers",
         "Asian",
         "9.0",
         "7.2",
         "16.2"
        ],
        [
         "39",
         "40",
         "16",
         "1/1/23",
         "2025-05-15 13:34:07",
         "125",
         "Spaghetti & Meatballs",
         "Italian",
         "17.95",
         "14.36",
         "32.31"
        ],
        [
         "40",
         "41",
         "16",
         "1/1/23",
         "2025-05-15 13:34:07",
         "111",
         "California Roll",
         "Asian",
         "11.95",
         "9.56",
         "21.509999999999998"
        ],
        [
         "41",
         "42",
         "16",
         "1/1/23",
         "2025-05-15 13:34:07",
         "106",
         "French Fries",
         "American",
         "7.0",
         "5.6",
         "12.6"
        ],
        [
         "42",
         "43",
         "17",
         "1/1/23",
         "2025-05-15 13:53:00",
         "101",
         "Hamburger",
         "American",
         "12.95",
         "10.36",
         "23.31"
        ],
        [
         "43",
         "44",
         "17",
         "1/1/23",
         "2025-05-15 13:53:00",
         "116",
         "Steak Tacos",
         "Mexican",
         "13.95",
         "11.16",
         "25.11"
        ],
        [
         "44",
         "45",
         "17",
         "1/1/23",
         "2025-05-15 13:53:00",
         "124",
         "Spaghetti",
         "Italian",
         "14.5",
         "11.6",
         "26.1"
        ],
        [
         "45",
         "46",
         "17",
         "1/1/23",
         "2025-05-15 13:53:00",
         "125",
         "Spaghetti & Meatballs",
         "Italian",
         "17.95",
         "14.36",
         "32.31"
        ],
        [
         "46",
         "47",
         "17",
         "1/1/23",
         "2025-05-15 13:53:00",
         "117",
         "Chicken Burrito",
         "Mexican",
         "12.95",
         "10.36",
         "23.31"
        ],
        [
         "47",
         "48",
         "17",
         "1/1/23",
         "2025-05-15 13:53:00",
         "127",
         "Meat Lasagna",
         "Italian",
         "17.95",
         "14.36",
         "32.31"
        ],
        [
         "48",
         "49",
         "17",
         "1/1/23",
         "2025-05-15 13:53:00",
         "128",
         "Cheese Lasagna",
         "Italian",
         "15.5",
         "12.4",
         "27.9"
        ],
        [
         "49",
         "50",
         "17",
         "1/1/23",
         "2025-05-15 13:53:00",
         "129",
         "Mushroom Ravioli",
         "Italian",
         "15.5",
         "12.4",
         "27.9"
        ]
       ],
       "shape": {
        "columns": 10,
        "rows": 12097
       }
      },
      "text/html": [
       "<div>\n",
       "<style scoped>\n",
       "    .dataframe tbody tr th:only-of-type {\n",
       "        vertical-align: middle;\n",
       "    }\n",
       "\n",
       "    .dataframe tbody tr th {\n",
       "        vertical-align: top;\n",
       "    }\n",
       "\n",
       "    .dataframe thead th {\n",
       "        text-align: right;\n",
       "    }\n",
       "</style>\n",
       "<table border=\"1\" class=\"dataframe\">\n",
       "  <thead>\n",
       "    <tr style=\"text-align: right;\">\n",
       "      <th></th>\n",
       "      <th>order_details_id</th>\n",
       "      <th>order_id</th>\n",
       "      <th>order_date</th>\n",
       "      <th>order_time</th>\n",
       "      <th>item_id</th>\n",
       "      <th>item_name</th>\n",
       "      <th>category</th>\n",
       "      <th>price</th>\n",
       "      <th>sales_tax</th>\n",
       "      <th>revenue</th>\n",
       "    </tr>\n",
       "  </thead>\n",
       "  <tbody>\n",
       "    <tr>\n",
       "      <th>0</th>\n",
       "      <td>1</td>\n",
       "      <td>1</td>\n",
       "      <td>1/1/23</td>\n",
       "      <td>2025-05-15 11:38:36</td>\n",
       "      <td>109</td>\n",
       "      <td>Korean Beef Bowl</td>\n",
       "      <td>Asian</td>\n",
       "      <td>17.95</td>\n",
       "      <td>14.36</td>\n",
       "      <td>32.31</td>\n",
       "    </tr>\n",
       "    <tr>\n",
       "      <th>1</th>\n",
       "      <td>2</td>\n",
       "      <td>2</td>\n",
       "      <td>1/1/23</td>\n",
       "      <td>2025-05-15 11:57:40</td>\n",
       "      <td>108</td>\n",
       "      <td>Tofu Pad Thai</td>\n",
       "      <td>Asian</td>\n",
       "      <td>14.50</td>\n",
       "      <td>11.60</td>\n",
       "      <td>26.10</td>\n",
       "    </tr>\n",
       "    <tr>\n",
       "      <th>2</th>\n",
       "      <td>3</td>\n",
       "      <td>2</td>\n",
       "      <td>1/1/23</td>\n",
       "      <td>2025-05-15 11:57:40</td>\n",
       "      <td>124</td>\n",
       "      <td>Spaghetti</td>\n",
       "      <td>Italian</td>\n",
       "      <td>14.50</td>\n",
       "      <td>11.60</td>\n",
       "      <td>26.10</td>\n",
       "    </tr>\n",
       "    <tr>\n",
       "      <th>3</th>\n",
       "      <td>4</td>\n",
       "      <td>2</td>\n",
       "      <td>1/1/23</td>\n",
       "      <td>2025-05-15 11:57:40</td>\n",
       "      <td>117</td>\n",
       "      <td>Chicken Burrito</td>\n",
       "      <td>Mexican</td>\n",
       "      <td>12.95</td>\n",
       "      <td>10.36</td>\n",
       "      <td>23.31</td>\n",
       "    </tr>\n",
       "    <tr>\n",
       "      <th>4</th>\n",
       "      <td>5</td>\n",
       "      <td>2</td>\n",
       "      <td>1/1/23</td>\n",
       "      <td>2025-05-15 11:57:40</td>\n",
       "      <td>129</td>\n",
       "      <td>Mushroom Ravioli</td>\n",
       "      <td>Italian</td>\n",
       "      <td>15.50</td>\n",
       "      <td>12.40</td>\n",
       "      <td>27.90</td>\n",
       "    </tr>\n",
       "    <tr>\n",
       "      <th>...</th>\n",
       "      <td>...</td>\n",
       "      <td>...</td>\n",
       "      <td>...</td>\n",
       "      <td>...</td>\n",
       "      <td>...</td>\n",
       "      <td>...</td>\n",
       "      <td>...</td>\n",
       "      <td>...</td>\n",
       "      <td>...</td>\n",
       "      <td>...</td>\n",
       "    </tr>\n",
       "    <tr>\n",
       "      <th>12092</th>\n",
       "      <td>12230</td>\n",
       "      <td>5369</td>\n",
       "      <td>3/31/23</td>\n",
       "      <td>2025-05-15 22:05:04</td>\n",
       "      <td>109</td>\n",
       "      <td>Korean Beef Bowl</td>\n",
       "      <td>Asian</td>\n",
       "      <td>17.95</td>\n",
       "      <td>14.36</td>\n",
       "      <td>32.31</td>\n",
       "    </tr>\n",
       "    <tr>\n",
       "      <th>12093</th>\n",
       "      <td>12231</td>\n",
       "      <td>5369</td>\n",
       "      <td>3/31/23</td>\n",
       "      <td>2025-05-15 22:05:04</td>\n",
       "      <td>129</td>\n",
       "      <td>Mushroom Ravioli</td>\n",
       "      <td>Italian</td>\n",
       "      <td>15.50</td>\n",
       "      <td>12.40</td>\n",
       "      <td>27.90</td>\n",
       "    </tr>\n",
       "    <tr>\n",
       "      <th>12094</th>\n",
       "      <td>12232</td>\n",
       "      <td>5369</td>\n",
       "      <td>3/31/23</td>\n",
       "      <td>2025-05-15 22:05:04</td>\n",
       "      <td>120</td>\n",
       "      <td>Steak Torta</td>\n",
       "      <td>Mexican</td>\n",
       "      <td>13.95</td>\n",
       "      <td>11.16</td>\n",
       "      <td>25.11</td>\n",
       "    </tr>\n",
       "    <tr>\n",
       "      <th>12095</th>\n",
       "      <td>12233</td>\n",
       "      <td>5369</td>\n",
       "      <td>3/31/23</td>\n",
       "      <td>2025-05-15 22:05:04</td>\n",
       "      <td>122</td>\n",
       "      <td>Chips &amp; Salsa</td>\n",
       "      <td>Mexican</td>\n",
       "      <td>7.00</td>\n",
       "      <td>5.60</td>\n",
       "      <td>12.60</td>\n",
       "    </tr>\n",
       "    <tr>\n",
       "      <th>12096</th>\n",
       "      <td>12234</td>\n",
       "      <td>5370</td>\n",
       "      <td>3/31/23</td>\n",
       "      <td>2025-05-15 22:15:48</td>\n",
       "      <td>122</td>\n",
       "      <td>Chips &amp; Salsa</td>\n",
       "      <td>Mexican</td>\n",
       "      <td>7.00</td>\n",
       "      <td>5.60</td>\n",
       "      <td>12.60</td>\n",
       "    </tr>\n",
       "  </tbody>\n",
       "</table>\n",
       "<p>12097 rows × 10 columns</p>\n",
       "</div>"
      ],
      "text/plain": [
       "       order_details_id  order_id order_date          order_time  item_id  \\\n",
       "0                     1         1     1/1/23 2025-05-15 11:38:36      109   \n",
       "1                     2         2     1/1/23 2025-05-15 11:57:40      108   \n",
       "2                     3         2     1/1/23 2025-05-15 11:57:40      124   \n",
       "3                     4         2     1/1/23 2025-05-15 11:57:40      117   \n",
       "4                     5         2     1/1/23 2025-05-15 11:57:40      129   \n",
       "...                 ...       ...        ...                 ...      ...   \n",
       "12092             12230      5369    3/31/23 2025-05-15 22:05:04      109   \n",
       "12093             12231      5369    3/31/23 2025-05-15 22:05:04      129   \n",
       "12094             12232      5369    3/31/23 2025-05-15 22:05:04      120   \n",
       "12095             12233      5369    3/31/23 2025-05-15 22:05:04      122   \n",
       "12096             12234      5370    3/31/23 2025-05-15 22:15:48      122   \n",
       "\n",
       "              item_name category  price  sales_tax  revenue  \n",
       "0      Korean Beef Bowl    Asian  17.95      14.36    32.31  \n",
       "1         Tofu Pad Thai    Asian  14.50      11.60    26.10  \n",
       "2             Spaghetti  Italian  14.50      11.60    26.10  \n",
       "3       Chicken Burrito  Mexican  12.95      10.36    23.31  \n",
       "4      Mushroom Ravioli  Italian  15.50      12.40    27.90  \n",
       "...                 ...      ...    ...        ...      ...  \n",
       "12092  Korean Beef Bowl    Asian  17.95      14.36    32.31  \n",
       "12093  Mushroom Ravioli  Italian  15.50      12.40    27.90  \n",
       "12094       Steak Torta  Mexican  13.95      11.16    25.11  \n",
       "12095     Chips & Salsa  Mexican   7.00       5.60    12.60  \n",
       "12096     Chips & Salsa  Mexican   7.00       5.60    12.60  \n",
       "\n",
       "[12097 rows x 10 columns]"
      ]
     },
     "execution_count": 10,
     "metadata": {},
     "output_type": "execute_result"
    }
   ],
   "source": [
    "order_item_df"
   ]
  },
  {
   "cell_type": "markdown",
   "id": "31e67309",
   "metadata": {},
   "source": [
    "##analyze the best and the worst saleS_ITEM\n"
   ]
  },
  {
   "cell_type": "code",
   "execution_count": 13,
   "id": "d17bdefd",
   "metadata": {},
   "outputs": [
    {
     "data": {
      "text/plain": [
       "<Axes: ylabel='item_name'>"
      ]
     },
     "execution_count": 13,
     "metadata": {},
     "output_type": "execute_result"
    },
    {
     "data": {
      "image/png": "[encoded data removed]",
      "text/plain": [
       "<Figure size 640x480 with 1 Axes>"
      ]
     },
     "metadata": {},
     "output_type": "display_data"
    }
   ],
   "source": [
    "order_item_df.groupby('item_name').agg({'revenue':'sum'}).sort_values('revenue').plot.barh()"
   ]
  },
  {
   "cell_type": "code",
   "execution_count": 21,
   "id": "3fc95667",
   "metadata": {},
   "outputs": [
    {
     "data": {
      "text/plain": [
       "<Axes: ylabel='item_name'>"
      ]
     },
     "execution_count": 21,
     "metadata": {},
     "output_type": "execute_result"
    },
    {
     "data": {
      "image/png": "[encoded data removed]",
      "text/plain": [
       "<Figure size 640x480 with 1 Axes>"
      ]
     },
     "metadata": {},
     "output_type": "display_data"
    }
   ],
   "source": [
    "order_item_df.query(\"category=='Italian'\").groupby('item_name').agg({'revenue':'sum'}).sort_values('revenue').plot.barh()"
   ]
  },
  {
   "cell_type": "markdown",
   "id": "984914b3",
   "metadata": {},
   "source": [
    "## Analyzing busiest time"
   ]
  },
  {
   "cell_type": "code",
   "execution_count": 26,
   "id": "f35fb6df",
   "metadata": {},
   "outputs": [
    {
     "name": "stderr",
     "output_type": "stream",
     "text": [
      "C:\\Users\\hussien\\AppData\\Local\\Temp\\ipykernel_18904\\4036878964.py:1: FutureWarning: 'M' is deprecated and will be removed in a future version, please use 'ME' instead.\n",
      "  order_item_df.set_index('order_time').resample(\"M\")['revenue'].sum().plot()\n",
      "c:\\Users\\hussien\\AppData\\Local\\Programs\\Python\\Python312\\Lib\\site-packages\\pandas\\plotting\\_matplotlib\\core.py:1567: UserWarning: Attempting to set identical low and high xlims makes transformation singular; automatically expanding.\n",
      "  ax.set_xlim(left, right)\n"
     ]
    },
    {
     "data": {
      "text/plain": [
       "<Axes: xlabel='order_time'>"
      ]
     },
     "execution_count": 26,
     "metadata": {},
     "output_type": "execute_result"
    },
    {
     "data": {
      "image/png": "[encoded data removed]",
      "text/plain": [
       "<Figure size 640x480 with 1 Axes>"
      ]
     },
     "metadata": {},
     "output_type": "display_data"
    }
   ],
   "source": [
    "order_item_df.set_index('order_time').resample(\"M\")['revenue'].sum().plot()"
   ]
  },
  {
   "cell_type": "code",
   "execution_count": null,
   "id": "8835b0bf",
   "metadata": {},
   "outputs": [],
   "source": []
  },
  {
   "cell_type": "code",
   "execution_count": null,
   "id": "554b7b1a",
   "metadata": {},
   "outputs": [],
   "source": []
  },
  {
   "cell_type": "code",
   "execution_count": null,
   "id": "71ea9f92",
   "metadata": {},
   "outputs": [],
   "source": []
  }
 ],
 "metadata": {
  "kernelspec": {
   "display_name": "Python 3",
   "language": "python",
   "name": "python3"
  },
  "language_info": {
   "codemirror_mode": {
    "name": "ipython",
    "version": 3
   },
   "file_extension": ".py",
   "mimetype": "text/x-python",
   "name": "python",
   "nbconvert_exporter": "python",
   "pygments_lexer": "ipython3",
   "version": "3.12.4"
  }
 },
 "nbformat": 4,
 "nbformat_minor": 5
}
